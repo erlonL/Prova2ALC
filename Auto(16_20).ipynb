{
 "cells": [
  {
   "cell_type": "code",
   "execution_count": 9,
   "metadata": {},
   "outputs": [],
   "source": [
    "using LinearAlgebra"
   ]
  },
  {
   "cell_type": "markdown",
   "metadata": {},
   "source": [
    "# Autovalores e Autovetores de uma Matriz\n",
    "Conteúdo referente às aulas 16 a 20\n",
    "\n",
    "Veja também em:\n",
    "\n",
    "https://replit.com/@erlonL/ProvaALC"
   ]
  },
  {
   "cell_type": "markdown",
   "metadata": {},
   "source": [
    "# Diagonalização"
   ]
  },
  {
   "cell_type": "markdown",
   "metadata": {},
   "source": [
    "Uma matriz de ordem $n$ é diagonalizável $\\Leftrightarrow$ ela tiver $n$ autovetores $L.I.$"
   ]
  },
  {
   "cell_type": "markdown",
   "metadata": {},
   "source": [
    "Desde que $$A = \\begin{bmatrix} 1 & 1 \\\\ -2 & 4 \\end{bmatrix} \\text{ e } P^{-1}AP = \\begin{bmatrix} 2 & 0 \\\\ 0 & 3 \\end{bmatrix}$$\n",
    "Então $A$ é diagonalizável.\n",
    "\n",
    "Em que $P$ é uma matriz da forma $\\begin{bmatrix} v^{(1)} & v^{(2)} \\end{bmatrix}$ formada pelos autovetores de $A$."
   ]
  },
  {
   "cell_type": "code",
   "execution_count": 10,
   "metadata": {},
   "outputs": [
    {
     "data": {
      "text/plain": [
       "Auto (generic function with 1 method)"
      ]
     },
     "metadata": {},
     "output_type": "display_data"
    }
   ],
   "source": [
    "function Auto(A)\n",
    "    Autovalues = round.(eigen(A).values);\n",
    "    Autovectors = eigen(A).vectors;\n",
    "    return Autovalues, Autovectors\n",
    "end"
   ]
  },
  {
   "cell_type": "code",
   "execution_count": 11,
   "metadata": {},
   "outputs": [
    {
     "data": {
      "text/plain": [
       "3×3 Matrix{Float64}:\n",
       "  1.0  -0.0  0.0\n",
       "  0.0   2.0  0.0\n",
       " -0.0  -0.0  7.0"
      ]
     },
     "metadata": {},
     "output_type": "display_data"
    }
   ],
   "source": [
    "A = [3 0 1 ; 2 2 2 ; 4 2 5];\n",
    "Ava, Avec = Auto(A)\n",
    "P = Avec\n",
    "round.((inv(P)*A*P) ; digits = 5)"
   ]
  },
  {
   "cell_type": "code",
   "execution_count": 13,
   "metadata": {},
   "outputs": [
    {
     "data": {
      "text/plain": [
       "3×3 Matrix{Float64}:\n",
       "  1.33754  -0.0      0.0\n",
       " -0.0       4.21809  0.0\n",
       "  0.0       0.0      7.44437"
      ]
     },
     "metadata": {},
     "output_type": "display_data"
    }
   ],
   "source": [
    "B = [2 1 0 ; 2 5 3 ; 0 1 6];\n",
    "Ava, Avec = Auto(B)\n",
    "P = Avec\n",
    "round.((inv(P)*B*P) ; digits = 5) # = D\n",
    "# P^-1 * A * P = D\n",
    "# P é formada pelos autovetores de V"
   ]
  },
  {
   "cell_type": "markdown",
   "metadata": {},
   "source": [
    "# Métodos das Potências"
   ]
  },
  {
   "cell_type": "markdown",
   "metadata": {},
   "source": [
    "Método da Potência => Determina o autovalor de maior módulo de uma matriz e o seu autovetor associado.\n",
    "\n",
    "Método da Potência Inversa => Analogamente, determina o autovalor com menor módulo e seu correspondente autovetor.\n",
    "- Consiste em calcular pelo _método das potências_ o autovalor com maior módulo de $A^{-1}$"
   ]
  },
  {
   "cell_type": "code",
   "execution_count": 14,
   "metadata": {},
   "outputs": [
    {
     "data": {
      "text/plain": [
       "potencia (generic function with 1 method)"
      ]
     },
     "metadata": {},
     "output_type": "display_data"
    }
   ],
   "source": [
    "function potencia(A, x, j, M)\n",
    "    x0 = normalize(x,Inf)\n",
    "    lambda =0.0\n",
    "    for k=1:M\n",
    "        y = A * x0\n",
    "        lambda = y[j]/x0[j]\n",
    "        x0 = normalize(y,Inf)\n",
    "    end\n",
    "    return lambda, x0\n",
    "end"
   ]
  },
  {
   "cell_type": "code",
   "execution_count": 16,
   "metadata": {},
   "outputs": [
    {
     "data": {
      "text/plain": [
       "potencia2 (generic function with 1 method)"
      ]
     },
     "metadata": {},
     "output_type": "display_data"
    }
   ],
   "source": [
    "function potencia2(A, x, M)\n",
    "    x0 = normalize(x,Inf)\n",
    "    lambda =0.0\n",
    "    p = 1\n",
    "    while abs(x0[p]) < norm(x0, Inf)\n",
    "        p = p+1\n",
    "    end\n",
    "    #@info(\"\", p)\n",
    "    for k=1:M\n",
    "        y = A * x0\n",
    "        lambda = y[p]/x0[p]\n",
    "        p=1\n",
    "        while abs(y[p]) < norm(y, Inf)\n",
    "            p = p+1\n",
    "        end\n",
    "        #@info(\"\", p)\n",
    "        if y[p]==0\n",
    "            lambda = 0.0\n",
    "            return lambda, x0\n",
    "        end\n",
    "        x0 =normalize(y,Inf)\n",
    "    end\n",
    "    return lambda, x0\n",
    "end"
   ]
  },
  {
   "cell_type": "code",
   "execution_count": 17,
   "metadata": {},
   "outputs": [
    {
     "data": {
      "text/plain": [
       "potenciaINV (generic function with 1 method)"
      ]
     },
     "metadata": {},
     "output_type": "display_data"
    }
   ],
   "source": [
    "function potenciaINV(A, x, M)\n",
    "    x0 = normalize(x,Inf)\n",
    "    lambda =0.0\n",
    "    p = 1\n",
    "    while abs(x0[p]) < norm(x0, Inf)\n",
    "        p = p+1\n",
    "    end\n",
    "    #@info(\"\", p)\n",
    "    for k=1:M\n",
    "        y = A \\x0\n",
    "        lambda = y[p]/x0[p]\n",
    "        p=1\n",
    "        while abs(y[p]) < norm(y, Inf)\n",
    "            p = p+1\n",
    "        end\n",
    "        #@info(\"\", p)\n",
    "        if y[p]==0\n",
    "            lambda = 0.0\n",
    "            return lambda, x0\n",
    "        end\n",
    "        x0 =normalize(y,Inf)\n",
    "    end\n",
    "    return 1/lambda, x0\n",
    "end"
   ]
  },
  {
   "cell_type": "code",
   "execution_count": 18,
   "metadata": {},
   "outputs": [
    {
     "data": {
      "text/plain": [
       "(7.0, [0.25, 0.5, 1.0])"
      ]
     },
     "metadata": {},
     "output_type": "display_data"
    },
    {
     "data": {
      "text/plain": [
       "(1.0, [0.5, 1.0, -1.0])"
      ]
     },
     "metadata": {},
     "output_type": "display_data"
    }
   ],
   "source": [
    "A = [3 0 1 ; 2 2 2 ; 4 2 5];\n",
    "Ax0 = [1.0, 1.0, 1.0]\n",
    "display(potencia(A, Ax0, 1, 100))\n",
    "display(potenciaINV(A, Ax0, 100))"
   ]
  },
  {
   "cell_type": "code",
   "execution_count": 19,
   "metadata": {},
   "outputs": [
    {
     "data": {
      "text/plain": [
       "(7.444374823657817, [0.18367581814070388, 1.0, 0.6923410624588032])"
      ]
     },
     "metadata": {},
     "output_type": "display_data"
    },
    {
     "data": {
      "text/plain": [
       "(1.3375351956376103, [1.0, -0.6624648043623895, 0.14208467670202266])"
      ]
     },
     "metadata": {},
     "output_type": "display_data"
    }
   ],
   "source": [
    "B = [2 1 0 ; 2 5 3 ; 0 1 6];\n",
    "Bx0 = [1.0, 1.0, 1.0]\n",
    "display(potencia(B, Bx0, 1, 100))\n",
    "display(potenciaINV(B, Bx0, 100))"
   ]
  },
  {
   "cell_type": "markdown",
   "metadata": {},
   "source": [
    "# Decomposição por Valores Singulares (SVD)"
   ]
  },
  {
   "cell_type": "markdown",
   "metadata": {},
   "source": [
    "Dada uma matriz $A$ de ordem $m \\times n$:\n",
    "- $A^TA$ é uma matriz quadrada, de ordem $n$;\n",
    "- $A^TA$ é simétrica, então os seus autovalores são reais;\n",
    "- $A^TA$ é positiva semi-definida, então os seus autovalores são não negativos;"
   ]
  },
  {
   "cell_type": "markdown",
   "metadata": {},
   "source": [
    "Os valores singulares de uma matriz $A$ são denotados por\n",
    "$$\\sigma_1, \\sigma_2, ..., \\sigma_r$$\n",
    "e são da forma:\n",
    "$$\\sigma_l = \\sqrt{\\lambda_l} > 0, \\text{ para } l = 1, 2, ..., r.$$"
   ]
  },
  {
   "cell_type": "markdown",
   "metadata": {},
   "source": [
    "- $v_i \\in \\mathbb{R}^n$ o autovetor ortonormal associado ao autovalor $\\lambda_i$ para $i = 1, 2, ..., r$ de $A^TA$. Tal que:\n",
    "\n",
    "$$V = \\begin{bmatrix} v_1 & v_2 & ... & v_r\\end{bmatrix}_{n \\times r}$$"
   ]
  },
  {
   "cell_type": "markdown",
   "metadata": {},
   "source": [
    "- $u_i \\in \\mathbb{R}^m$ tal que:\n",
    "\n",
    "$$u_i = \\frac{1}{\\sigma_i}Av_i, \\text{ para } i = 1, 2, ..., r.$$\n",
    "\n",
    "$$U = \\begin{bmatrix} u_1 & u_2 & ... & u_r\\end{bmatrix}_{m \\times r}$$"
   ]
  },
  {
   "cell_type": "markdown",
   "metadata": {},
   "source": [
    "Também temos que:\n",
    "\n",
    "$$\\Sigma = \\begin{bmatrix} \\sigma_1 & & & \\\\ & \\sigma_2 & & \\\\ & & \\ddots & \\\\ & & & \\sigma_r \\end{bmatrix}$$"
   ]
  },
  {
   "cell_type": "markdown",
   "metadata": {},
   "source": [
    "Logo, \n",
    "\n",
    "$$A = U\\Sigma V^T$$"
   ]
  },
  {
   "cell_type": "code",
   "execution_count": 23,
   "metadata": {},
   "outputs": [
    {
     "data": {
      "text/plain": [
       "SVD (generic function with 1 method)"
      ]
     },
     "metadata": {},
     "output_type": "display_data"
    }
   ],
   "source": [
    "function SVD(A)\n",
    "    n, m = size(A)\n",
    "\n",
    "    Ava, Avec = Auto(A'*A)\n",
    "\n",
    "    U = zeros(n,m)\n",
    "    Σ = zeros(m, m)\n",
    "    V = Avec\n",
    "\n",
    "    for i = 1:m\n",
    "        σi = sqrt(Ava[i])\n",
    "        ui = (A * Avec[:,i])/σi\n",
    "        U[:,i] = ui\n",
    "        Σ[i,i] = σi\n",
    "        # @info(\"σ$i = $σi\")\n",
    "        # @info(\"u$i = $ui\")\n",
    "        # @info(\"v$i = $(V[:,i])\")\n",
    "    end\n",
    "    return U, Σ, V\n",
    "end\n"
   ]
  },
  {
   "cell_type": "code",
   "execution_count": 24,
   "metadata": {},
   "outputs": [
    {
     "data": {
      "text/plain": [
       "3×2 Matrix{Float64}:\n",
       " 3.0  5.0\n",
       " 4.0  1.91844e-17\n",
       " 0.0  0.0"
      ]
     },
     "metadata": {},
     "output_type": "display_data"
    }
   ],
   "source": [
    "A = [3 5 ; 4 0 ; 0 0]\n",
    "Ava, Avec = Auto(A'*A)\n",
    "σ1 = sqrt(Ava[1])\n",
    "σ2 = sqrt(Ava[2])\n",
    "\n",
    "u1 = (A * Avec[:,1])/σ1;\n",
    "u2 = (A * Avec[:,2])/σ2;\n",
    "\n",
    "U = [u1 u2]\n",
    "Σ = [σ1 0 ; 0 σ2]\n",
    "V = Avec\n",
    "\n",
    "display(U*Σ*V')"
   ]
  },
  {
   "cell_type": "code",
   "execution_count": 25,
   "metadata": {},
   "outputs": [
    {
     "data": {
      "text/plain": [
       "3×2 Matrix{Float64}:\n",
       " 3.0  5.0\n",
       " 4.0  1.91844e-17\n",
       " 0.0  0.0"
      ]
     },
     "metadata": {},
     "output_type": "display_data"
    }
   ],
   "source": [
    "S, V, D = SVD(A)\n",
    "display(S*V*D')"
   ]
  },
  {
   "cell_type": "code",
   "execution_count": 27,
   "metadata": {},
   "outputs": [
    {
     "data": {
      "text/plain": [
       "3×2 Matrix{Float64}:\n",
       "  3.0       5.0\n",
       "  5.0      -1.41421\n",
       " -1.41421  -5.0"
      ]
     },
     "metadata": {},
     "output_type": "display_data"
    }
   ],
   "source": [
    "A = [3 5 ; 5 -sqrt(2) ; -sqrt(2) -5];\n",
    "S, V, D = SVD(A)\n",
    "\n",
    "display(S*V*D')"
   ]
  }
 ],
 "metadata": {
  "kernelspec": {
   "display_name": "Julia 1.9.3",
   "language": "julia",
   "name": "julia-1.9"
  },
  "language_info": {
   "file_extension": ".jl",
   "mimetype": "application/julia",
   "name": "julia",
   "version": "1.9.3"
  }
 },
 "nbformat": 4,
 "nbformat_minor": 2
}
